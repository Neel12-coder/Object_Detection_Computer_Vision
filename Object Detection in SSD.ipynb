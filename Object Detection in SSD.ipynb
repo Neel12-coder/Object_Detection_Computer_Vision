{
 "cells": [
  {
   "cell_type": "code",
   "execution_count": 2,
   "metadata": {},
   "outputs": [],
   "source": [
    "import numpy as np\n",
    "import argparse\n",
    "import time\n",
    "import cv2\n",
    "import os"
   ]
  },
  {
   "cell_type": "code",
   "execution_count": 3,
   "metadata": {},
   "outputs": [],
   "source": [
    "ssd_weights=os.path.join('model','frozen_inference_graph.pb')\n",
    "ssd_pbtxt=os.path.join('model','ssd_mobilenet.pbtxt')"
   ]
  },
  {
   "cell_type": "code",
   "execution_count": 4,
   "metadata": {},
   "outputs": [],
   "source": [
    "classNames = {0: 'background',\n",
    "              1: 'person', 2: 'bicycle', 3: 'car', 4: 'motorcycle', 5: 'airplane', 6: 'bus',\n",
    "              7: 'train', 8: 'truck', 9: 'boat', 10: 'traffic light', 11: 'fire hydrant',\n",
    "              13: 'stop sign', 14: 'parking meter', 15: 'bench', 16: 'bird', 17: 'cat',\n",
    "              18: 'dog', 19: 'horse', 20: 'sheep', 21: 'cow', 22: 'elephant', 23: 'bear',\n",
    "              24: 'zebra', 25: 'giraffe', 27: 'backpack', 28: 'umbrella', 31: 'handbag',\n",
    "              32: 'tie', 33: 'suitcase', 34: 'frisbee', 35: 'skis', 36: 'snowboard',\n",
    "              37: 'sports ball', 38: 'kite', 39: 'baseball bat', 40: 'baseball glove',\n",
    "              41: 'skateboard', 42: 'surfboard', 43: 'tennis racket', 44: 'bottle',\n",
    "              46: 'wine glass', 47: 'cup', 48: 'fork', 49: 'knife', 50: 'spoon',\n",
    "              51: 'bowl', 52: 'banana', 53: 'apple', 54: 'sandwich', 55: 'orange',\n",
    "              56: 'broccoli', 57: 'carrot', 58: 'hot dog', 59: 'pizza', 60: 'donut',\n",
    "              61: 'cake', 62: 'chair', 63: 'couch', 64: 'potted plant', 65: 'bed',\n",
    "              67: 'dining table', 70: 'toilet', 72: 'tv', 73: 'laptop', 74: 'mouse',\n",
    "              75: 'remote', 76: 'keyboard', 77: 'cell phone', 78: 'microwave', 79: 'oven',\n",
    "              80: 'toaster', 81: 'sink', 82: 'refrigerator', 84: 'book', 85: 'clock',\n",
    "              86: 'vase', 87: 'scissors', 88: 'teddy bear', 89: 'hair drier', 90: 'toothbrush'}"
   ]
  },
  {
   "cell_type": "code",
   "execution_count": 5,
   "metadata": {},
   "outputs": [],
   "source": [
    "np.random.seed(49)\n",
    "COLORS = np.random.randint(0, 255, size=(90, 3),dtype=\"uint8\")"
   ]
  },
  {
   "cell_type": "code",
   "execution_count": 6,
   "metadata": {},
   "outputs": [],
   "source": [
    "ssd_model=cv2.dnn.readNetFromTensorflow(ssd_weights,ssd_pbtxt)"
   ]
  },
  {
   "cell_type": "code",
   "execution_count": 9,
   "metadata": {},
   "outputs": [],
   "source": [
    "cap=cv2.VideoCapture(\"traffic-mini.mp4\")\n",
    "pressed=False\n",
    "while True:\n",
    "    is_frame,frame=cap.read()\n",
    "    if not is_frame:\n",
    "        break\n",
    "    im_height,im_width,garbage=frame.shape\n",
    "    ssd_model.setInput(cv2.dnn.blobFromImage(frame,size=(300,300),swapRB=True))\n",
    "    output=ssd_model.forward()\n",
    "    for detection in output[0,0,:,:]:\n",
    "        confidence=detection[2]\n",
    "        if confidence > .5:\n",
    "            class_id=int(detection[1])\n",
    "            class_name=classNames[class_id]\n",
    "            box_x = detection[3] * im_width\n",
    "            box_y = detection[4] * im_height\n",
    "            box_width = detection[5] * im_width\n",
    "            box_height = detection[6] * im_height\n",
    "            color=[int(x) for x in COLORS[class_id]]\n",
    "            cv2.rectangle(frame, (int(box_x), int(box_y)), (int(box_width), int(box_height)), color)\n",
    "            text = \"{}: {:.4f}\".format(class_name,confidence)\n",
    "            cv2.putText(frame,text ,(int(box_x), int(box_y-5)),cv2.FONT_HERSHEY_SIMPLEX,0.5,color)\n",
    "    cv2.imshow('Object Detection SSD', cv2.resize(frame,(1366,768)))\n",
    "    if cv2.waitKey(1) & 0xFF == ord('q'):\n",
    "        pressed=True\n",
    "        cv2.destroyAllWindows()\n",
    "        break\n",
    "if not pressed:\n",
    "    cv2.destroyAllWindows()"
   ]
  },
  {
   "cell_type": "code",
   "execution_count": null,
   "metadata": {},
   "outputs": [],
   "source": []
  }
 ],
 "metadata": {
  "kernelspec": {
   "display_name": "Python 3",
   "language": "python",
   "name": "python3"
  },
  "language_info": {
   "codemirror_mode": {
    "name": "ipython",
    "version": 3
   },
   "file_extension": ".py",
   "mimetype": "text/x-python",
   "name": "python",
   "nbconvert_exporter": "python",
   "pygments_lexer": "ipython3",
   "version": "3.7.6"
  }
 },
 "nbformat": 4,
 "nbformat_minor": 4
}
